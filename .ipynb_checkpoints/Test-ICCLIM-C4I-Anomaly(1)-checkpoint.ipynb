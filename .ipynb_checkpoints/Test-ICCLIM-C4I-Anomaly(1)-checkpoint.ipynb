{
 "cells": [
  {
   "cell_type": "markdown",
   "metadata": {},
   "source": [
    "## ICCLIM C4I Demo\n",
    "\n",
    "\n",
    "Example notebook that runs ICCLIM, which is pre-installed in the notebook.\n",
    "\n",
    "The example calculates the averaged summer (JJA=June July August) precipitation anomaly (PRCPTOT indicator) for the future period 2040-2060 compared to the reference period 1989-2005 for the dataset chosen by the user on C4I. The result is a 2D field over the region of interest.\n",
    "\n",
    "The example here uses CORDEX-Adjusted datasets. That means that data has been bias-corrected.\n",
    "Data is not yet available.\n",
    "\n",
    "The visualisation part is not implemented yet.\n",
    "\n",
    "### Preparation of the needed modules"
   ]
  },
  {
   "cell_type": "code",
   "execution_count": 1,
   "metadata": {},
   "outputs": [
    {
     "name": "stdout",
     "output_type": "stream",
     "text": [
      "python:  3.6.11 | packaged by conda-forge | (default, Aug  5 2020, 20:09:42) \n",
      "[GCC 7.5.0]\n",
      "numpy:  1.19.4\n",
      "netCDF4:  1.5.4\n"
     ]
    }
   ],
   "source": [
    "from icclim import icclim\n",
    "import numpy as np\n",
    "import netCDF4\n",
    "import sys\n",
    "import glob\n",
    "import os\n",
    "import datetime\n",
    "import cftime\n",
    "\n",
    "print(\"python: \",sys.version)\n",
    "print(\"numpy: \", np.__version__)\n",
    "print(\"netCDF4: \", netCDF4.__version__)"
   ]
  },
  {
   "cell_type": "markdown",
   "metadata": {},
   "source": [
    "### Specification of the parameters and period of interest"
   ]
  },
  {
   "cell_type": "code",
   "execution_count": 3,
   "metadata": {},
   "outputs": [
    {
     "name": "stderr",
     "output_type": "stream",
     "text": [
      "2020-11-19 15:24:14,651    ********************************************************************************************\n",
      "2020-11-19 15:24:14,652    *                                                                                          *\n",
      "2020-11-19 15:24:14,653    *          icclim                                                            V4.2.14       *\n",
      "2020-11-19 15:24:14,653    *                                                                                          *\n",
      "2020-11-19 15:24:14,654    *                                                                                          *\n",
      "2020-11-19 15:24:14,655    *          Thu Nov 19 15:24:14 2020 GMT                                                    *\n",
      "2020-11-19 15:24:14,657    *                                                                                          *\n",
      "2020-11-19 15:24:14,658    *          BEGIN EXECUTION                                                                 *\n",
      "2020-11-19 15:24:14,659    *                                                                                          *\n",
      "2020-11-19 15:24:14,660    ********************************************************************************************\n",
      "2020-11-19 15:24:17,752 Loading data: chunk 1/8 ...\n",
      "2020-11-19 15:24:36,460 Loading data: chunk 2/8 ...\n",
      "2020-11-19 15:25:55,791 Loading data: chunk 3/8 ...\n",
      "2020-11-19 15:26:23,235 Loading data: chunk 4/8 ...\n",
      "2020-11-19 15:26:33,158 Loading data: chunk 5/8 ...\n",
      "2020-11-19 15:26:42,012 Loading data: chunk 6/8 ...\n",
      "2020-11-19 15:26:51,136 Loading data: chunk 7/8 ...\n",
      "2020-11-19 15:27:00,154 Loading data: chunk 8/8 ...\n",
      "2020-11-19 15:27:08,769    ********************************************************************************************\n",
      "2020-11-19 15:27:08,770    *                                                                                          *\n",
      "2020-11-19 15:27:08,771    *          icclim                                                            V4.2.14       *\n",
      "2020-11-19 15:27:08,772    *                                                                                          *\n",
      "2020-11-19 15:27:08,772    *                                                                                          *\n",
      "2020-11-19 15:27:08,773    *          Thu Nov 19 15:27:08 2020 GMT                                                    *\n",
      "2020-11-19 15:27:08,774    *                                                                                          *\n",
      "2020-11-19 15:27:08,776    *          END EXECUTION                                                                   *\n",
      "2020-11-19 15:27:08,776    *                                                                                          *\n",
      "2020-11-19 15:27:08,782    *          CP SECS = 165.482                                                               *\n",
      "2020-11-19 15:27:08,783    *                                                                                          *\n",
      "2020-11-19 15:27:08,783    ********************************************************************************************\n"
     ]
    }
   ],
   "source": [
    "# studied period\n",
    "dt1 = datetime.datetime(2040,1,1)\n",
    "dt2 = datetime.datetime(2060,12,31)\n",
    "\n",
    "# reference period\n",
    "dt1_ref = datetime.datetime(1989,1,1)\n",
    "dt2_ref = datetime.datetime(2005,12,31)\n",
    "\n",
    "out_ref_f = 'prtot_ref_icclim.nc'\n",
    "filenames = sorted(glob.glob('./data_cordex/prAdjust*day_19*.nc'))\n",
    "icclim.indice(indice_name='PRCPTOT', in_files=filenames, var_name='prAdjust', slice_mode='JJA', time_range=[dt1_ref, dt2_ref], transfer_limit_Mbytes=None, out_file=out_ref_f)\n",
    "\n",
    "out_f = 'prtot_icclim.nc'\n",
    "filenames = sorted(glob.glob('./data_cordex/prAdjust*day_20*.nc'))\n",
    "icclim.indice(indice_name='PRCPTOT', in_files=filenames, var_name='prAdjust', slice_mode='JJA', time_range=[dt1, dt2], transfer_limit_Mbytes=None, out_file=out_f)\n",
    "\n",
    "matplotlib.use('agg')\n",
    "\n",
    "nc = netCDF4.Dataset(out_f)\n",
    "var = nc.variables['PRCPTOT']\n",
    "\n",
    "nc_ref = netCDF4.Dataset(out_ref_f)\n",
    "var_ref = nc_ref.variables['PRCPTOT']"
   ]
  },
  {
   "cell_type": "markdown",
   "metadata": {},
   "source": [
    "### Calculate temporal average"
   ]
  },
  {
   "cell_type": "code",
   "execution_count": 4,
   "metadata": {},
   "outputs": [
    {
     "name": "stdout",
     "output_type": "stream",
     "text": [
      "[26.02153  25.663391 25.628197 25.975288 26.046402]\n"
     ]
    }
   ],
   "source": [
    "# Calculate temporal average anomaly\n",
    "result = np.mean(var, axis=0) - np.mean(var_ref, axis=0)\n",
    "\n",
    "print(result[0,0])"
   ]
  },
  {
   "cell_type": "markdown",
   "metadata": {},
   "source": [
    "### Visualise the results\n",
    "\n",
    "Not yet implemented."
   ]
  },
  {
   "cell_type": "markdown",
   "metadata": {},
   "source": []
  }
 ],
 "metadata": {
  "kernelspec": {
   "display_name": "Python 3",
   "language": "python",
   "name": "python3"
  },
  "language_info": {
   "codemirror_mode": {
    "name": "ipython",
    "version": 3
   },
   "file_extension": ".py",
   "mimetype": "text/x-python",
   "name": "python",
   "nbconvert_exporter": "python",
   "pygments_lexer": "ipython3",
   "version": "3.6.11"
  }
 },
 "nbformat": 4,
 "nbformat_minor": 4
}
